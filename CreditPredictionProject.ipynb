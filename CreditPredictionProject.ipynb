{
 "cells": [
  {
   "cell_type": "markdown",
   "metadata": {},
   "source": [
    "# Home Credit Default Risk"
   ]
  },
  {
   "cell_type": "markdown",
   "metadata": {},
   "source": [
    "#### In this homework, we first handled the data to merge the different datasets of this project. After that, we filled the missing values and dealt with non-numerical columns.\n",
    "\n",
    "#### Lastly, we created two models : one based on logistic regression, and the other on the Light GBM method."
   ]
  },
  {
   "cell_type": "code",
   "execution_count": 36,
   "metadata": {},
   "outputs": [],
   "source": [
    "import numpy as np\n",
    "import pandas as pd \n",
    "\n",
    "import warnings\n",
    "warnings.filterwarnings(\"ignore\")\n",
    "\n",
    "# sklearn preprocessing for dealing with categorical variables\n",
    "from sklearn.preprocessing import LabelEncoder\n",
    "\n",
    "# File system manangement\n",
    "import os\n",
    "\n",
    "# Suppress warnings \n",
    "import warnings\n",
    "warnings.filterwarnings('ignore')\n",
    "\n",
    "# matplotlib and seaborn for plotting\n",
    "import matplotlib.pyplot as plt\n",
    "import seaborn as sns\n",
    "\n",
    "from sklearn.preprocessing import MinMaxScaler, Imputer\n",
    "\n",
    "from sklearn.preprocessing import StandardScaler\n",
    "\n",
    "from sklearn.linear_model import LogisticRegression\n",
    "\n",
    "from lightgbm import LGBMClassifier\n",
    "import lightgbm\n",
    "\n",
    "from sklearn.model_selection import train_test_split\n",
    "\n",
    "from sklearn.metrics import roc_auc_score\n",
    "\n",
    "import scipy.stats as ss"
   ]
  },
  {
   "cell_type": "markdown",
   "metadata": {},
   "source": [
    "#### We first read all the datasets"
   ]
  },
  {
   "cell_type": "code",
   "execution_count": 37,
   "metadata": {},
   "outputs": [],
   "source": [
    "train = pd.read_csv(\"application_train.csv\")\n",
    "test = pd.read_csv(\"application_test.csv\")\n",
    "finaltest = test.copy()\n",
    "\n",
    "# We will also use the other files to make the prediction more accurate\n",
    "\n",
    "bureau = pd.read_csv('bureau.csv')\n",
    "credit_card_balance = pd.read_csv('credit_card_balance.csv')\n",
    "previous_application = pd.read_csv('previous_application.csv')\n",
    "installments_payments = pd.read_csv('installments_payments.csv')\n",
    "POS_CASH_balance = pd.read_csv('POS_CASH_balance.csv')\n",
    "bureau_balance = pd.read_csv('bureau_balance.csv')"
   ]
  },
  {
   "cell_type": "code",
   "execution_count": 33,
   "metadata": {},
   "outputs": [
    {
     "data": {
      "text/html": [
       "<div>\n",
       "<style scoped>\n",
       "    .dataframe tbody tr th:only-of-type {\n",
       "        vertical-align: middle;\n",
       "    }\n",
       "\n",
       "    .dataframe tbody tr th {\n",
       "        vertical-align: top;\n",
       "    }\n",
       "\n",
       "    .dataframe thead th {\n",
       "        text-align: right;\n",
       "    }\n",
       "</style>\n",
       "<table border=\"1\" class=\"dataframe\">\n",
       "  <thead>\n",
       "    <tr style=\"text-align: right;\">\n",
       "      <th></th>\n",
       "      <th>NAME_CONTRACT_TYPE</th>\n",
       "      <th>FLAG_OWN_CAR</th>\n",
       "      <th>FLAG_OWN_REALTY</th>\n",
       "      <th>CNT_CHILDREN</th>\n",
       "      <th>AMT_INCOME_TOTAL</th>\n",
       "      <th>AMT_CREDIT_x</th>\n",
       "      <th>AMT_ANNUITY_x</th>\n",
       "      <th>AMT_GOODS_PRICE_x</th>\n",
       "      <th>REGION_POPULATION_RELATIVE</th>\n",
       "      <th>DAYS_BIRTH</th>\n",
       "      <th>...</th>\n",
       "      <th>HOUSETYPE_MODE_terraced house</th>\n",
       "      <th>WALLSMATERIAL_MODE_Block</th>\n",
       "      <th>WALLSMATERIAL_MODE_Mixed</th>\n",
       "      <th>WALLSMATERIAL_MODE_Monolithic</th>\n",
       "      <th>WALLSMATERIAL_MODE_Others</th>\n",
       "      <th>WALLSMATERIAL_MODE_Panel</th>\n",
       "      <th>WALLSMATERIAL_MODE_Stone, brick</th>\n",
       "      <th>WALLSMATERIAL_MODE_Wooden</th>\n",
       "      <th>EMERGENCYSTATE_MODE_No</th>\n",
       "      <th>EMERGENCYSTATE_MODE_Yes</th>\n",
       "    </tr>\n",
       "  </thead>\n",
       "  <tbody>\n",
       "    <tr>\n",
       "      <th>0</th>\n",
       "      <td>-0.324395</td>\n",
       "      <td>-0.717914</td>\n",
       "      <td>0.664531</td>\n",
       "      <td>-0.577538</td>\n",
       "      <td>0.142129</td>\n",
       "      <td>-0.478095</td>\n",
       "      <td>-0.166143</td>\n",
       "      <td>-0.507236</td>\n",
       "      <td>-0.149452</td>\n",
       "      <td>1.506880</td>\n",
       "      <td>...</td>\n",
       "      <td>-0.062904</td>\n",
       "      <td>-0.176135</td>\n",
       "      <td>-0.086733</td>\n",
       "      <td>-0.076281</td>\n",
       "      <td>-0.072886</td>\n",
       "      <td>-0.522963</td>\n",
       "      <td>1.935056</td>\n",
       "      <td>-0.133215</td>\n",
       "      <td>0.963763</td>\n",
       "      <td>-0.08734</td>\n",
       "    </tr>\n",
       "    <tr>\n",
       "      <th>1</th>\n",
       "      <td>-0.324395</td>\n",
       "      <td>-0.717914</td>\n",
       "      <td>-1.504820</td>\n",
       "      <td>-0.577538</td>\n",
       "      <td>0.426792</td>\n",
       "      <td>1.725450</td>\n",
       "      <td>0.592683</td>\n",
       "      <td>1.600873</td>\n",
       "      <td>-1.252750</td>\n",
       "      <td>-0.166821</td>\n",
       "      <td>...</td>\n",
       "      <td>-0.062904</td>\n",
       "      <td>5.677469</td>\n",
       "      <td>-0.086733</td>\n",
       "      <td>-0.076281</td>\n",
       "      <td>-0.072886</td>\n",
       "      <td>-0.522963</td>\n",
       "      <td>-0.516781</td>\n",
       "      <td>-0.133215</td>\n",
       "      <td>0.963763</td>\n",
       "      <td>-0.08734</td>\n",
       "    </tr>\n",
       "    <tr>\n",
       "      <th>2</th>\n",
       "      <td>3.082659</td>\n",
       "      <td>1.392925</td>\n",
       "      <td>0.664531</td>\n",
       "      <td>-0.577538</td>\n",
       "      <td>-0.427196</td>\n",
       "      <td>-1.152888</td>\n",
       "      <td>-1.404669</td>\n",
       "      <td>-1.092145</td>\n",
       "      <td>-0.783451</td>\n",
       "      <td>-0.689509</td>\n",
       "      <td>...</td>\n",
       "      <td>-0.062904</td>\n",
       "      <td>-0.176135</td>\n",
       "      <td>-0.086733</td>\n",
       "      <td>-0.076281</td>\n",
       "      <td>-0.072886</td>\n",
       "      <td>-0.522963</td>\n",
       "      <td>-0.516781</td>\n",
       "      <td>-0.133215</td>\n",
       "      <td>-1.037599</td>\n",
       "      <td>-0.08734</td>\n",
       "    </tr>\n",
       "    <tr>\n",
       "      <th>3</th>\n",
       "      <td>-0.324395</td>\n",
       "      <td>-0.717914</td>\n",
       "      <td>0.664531</td>\n",
       "      <td>-0.577538</td>\n",
       "      <td>-0.142533</td>\n",
       "      <td>-0.711430</td>\n",
       "      <td>0.177874</td>\n",
       "      <td>-0.653463</td>\n",
       "      <td>-0.928991</td>\n",
       "      <td>-0.680114</td>\n",
       "      <td>...</td>\n",
       "      <td>-0.062904</td>\n",
       "      <td>-0.176135</td>\n",
       "      <td>-0.086733</td>\n",
       "      <td>-0.076281</td>\n",
       "      <td>-0.072886</td>\n",
       "      <td>-0.522963</td>\n",
       "      <td>-0.516781</td>\n",
       "      <td>-0.133215</td>\n",
       "      <td>-1.037599</td>\n",
       "      <td>-0.08734</td>\n",
       "    </tr>\n",
       "    <tr>\n",
       "      <th>4</th>\n",
       "      <td>-0.324395</td>\n",
       "      <td>-0.717914</td>\n",
       "      <td>0.664531</td>\n",
       "      <td>-0.577538</td>\n",
       "      <td>-0.199466</td>\n",
       "      <td>-0.213734</td>\n",
       "      <td>-0.361749</td>\n",
       "      <td>-0.068554</td>\n",
       "      <td>0.563570</td>\n",
       "      <td>-0.892535</td>\n",
       "      <td>...</td>\n",
       "      <td>-0.062904</td>\n",
       "      <td>-0.176135</td>\n",
       "      <td>-0.086733</td>\n",
       "      <td>-0.076281</td>\n",
       "      <td>-0.072886</td>\n",
       "      <td>-0.522963</td>\n",
       "      <td>-0.516781</td>\n",
       "      <td>-0.133215</td>\n",
       "      <td>-1.037599</td>\n",
       "      <td>-0.08734</td>\n",
       "    </tr>\n",
       "  </tbody>\n",
       "</table>\n",
       "<p>5 rows × 493 columns</p>\n",
       "</div>"
      ],
      "text/plain": [
       "   NAME_CONTRACT_TYPE  FLAG_OWN_CAR  FLAG_OWN_REALTY  CNT_CHILDREN  \\\n",
       "0           -0.324395     -0.717914         0.664531     -0.577538   \n",
       "1           -0.324395     -0.717914        -1.504820     -0.577538   \n",
       "2            3.082659      1.392925         0.664531     -0.577538   \n",
       "3           -0.324395     -0.717914         0.664531     -0.577538   \n",
       "4           -0.324395     -0.717914         0.664531     -0.577538   \n",
       "\n",
       "   AMT_INCOME_TOTAL  AMT_CREDIT_x  AMT_ANNUITY_x  AMT_GOODS_PRICE_x  \\\n",
       "0          0.142129     -0.478095      -0.166143          -0.507236   \n",
       "1          0.426792      1.725450       0.592683           1.600873   \n",
       "2         -0.427196     -1.152888      -1.404669          -1.092145   \n",
       "3         -0.142533     -0.711430       0.177874          -0.653463   \n",
       "4         -0.199466     -0.213734      -0.361749          -0.068554   \n",
       "\n",
       "   REGION_POPULATION_RELATIVE  DAYS_BIRTH           ...             \\\n",
       "0                   -0.149452    1.506880           ...              \n",
       "1                   -1.252750   -0.166821           ...              \n",
       "2                   -0.783451   -0.689509           ...              \n",
       "3                   -0.928991   -0.680114           ...              \n",
       "4                    0.563570   -0.892535           ...              \n",
       "\n",
       "   HOUSETYPE_MODE_terraced house  WALLSMATERIAL_MODE_Block  \\\n",
       "0                      -0.062904                 -0.176135   \n",
       "1                      -0.062904                  5.677469   \n",
       "2                      -0.062904                 -0.176135   \n",
       "3                      -0.062904                 -0.176135   \n",
       "4                      -0.062904                 -0.176135   \n",
       "\n",
       "   WALLSMATERIAL_MODE_Mixed  WALLSMATERIAL_MODE_Monolithic  \\\n",
       "0                 -0.086733                      -0.076281   \n",
       "1                 -0.086733                      -0.076281   \n",
       "2                 -0.086733                      -0.076281   \n",
       "3                 -0.086733                      -0.076281   \n",
       "4                 -0.086733                      -0.076281   \n",
       "\n",
       "   WALLSMATERIAL_MODE_Others  WALLSMATERIAL_MODE_Panel  \\\n",
       "0                  -0.072886                 -0.522963   \n",
       "1                  -0.072886                 -0.522963   \n",
       "2                  -0.072886                 -0.522963   \n",
       "3                  -0.072886                 -0.522963   \n",
       "4                  -0.072886                 -0.522963   \n",
       "\n",
       "   WALLSMATERIAL_MODE_Stone, brick  WALLSMATERIAL_MODE_Wooden  \\\n",
       "0                         1.935056                  -0.133215   \n",
       "1                        -0.516781                  -0.133215   \n",
       "2                        -0.516781                  -0.133215   \n",
       "3                        -0.516781                  -0.133215   \n",
       "4                        -0.516781                  -0.133215   \n",
       "\n",
       "   EMERGENCYSTATE_MODE_No  EMERGENCYSTATE_MODE_Yes  \n",
       "0                0.963763                 -0.08734  \n",
       "1                0.963763                 -0.08734  \n",
       "2               -1.037599                 -0.08734  \n",
       "3               -1.037599                 -0.08734  \n",
       "4               -1.037599                 -0.08734  \n",
       "\n",
       "[5 rows x 493 columns]"
      ]
     },
     "execution_count": 33,
     "metadata": {},
     "output_type": "execute_result"
    }
   ],
   "source": [
    "train.head()"
   ]
  },
  {
   "cell_type": "markdown",
   "metadata": {},
   "source": [
    "As we can see, some columns contain \"NaN\" values. It means that some values are missing. We decided to handle this issue separately on each of the files. \n",
    "\n",
    "After having done that, we will gather all of them into an unique dataset, which will be the training file.\n",
    "\n",
    "We used two functions. The first, objectcol, gets the name of the columns which are not of a numerical type. The second enables us to see if more than 70% of a column of the considered dataset contains NULL values. If so, we get rid of those columns."
   ]
  },
  {
   "cell_type": "code",
   "execution_count": 38,
   "metadata": {},
   "outputs": [],
   "source": [
    "# We could have also used a list comprehension but the use of a loop makes the code more readable\n",
    "\n",
    "def objectcol(data):\n",
    "    final = []\n",
    "    for i in data.columns:\n",
    "        if data[i].dtype == 'object':\n",
    "            final.append(i)\n",
    "    return(final)"
   ]
  },
  {
   "cell_type": "markdown",
   "metadata": {},
   "source": [
    "Had we filled the columns (with more than 70% of missing values) with their mean value, we would have got non-relevant values in these columns."
   ]
  },
  {
   "cell_type": "code",
   "execution_count": 39,
   "metadata": {},
   "outputs": [],
   "source": [
    "def missing(data):\n",
    "    miss = pd.DataFrame(data.isnull().mean() > 0.7,columns = [\"GreaterThan70PerCent\"])\n",
    "    miss = miss[miss[\"GreaterThan70PerCent\"] == True]\n",
    "    return(list(miss.index))"
   ]
  },
  {
   "cell_type": "code",
   "execution_count": 40,
   "metadata": {},
   "outputs": [],
   "source": [
    "train.drop(missing(train), axis = 1, inplace=True)\n",
    "test.drop(missing(test), axis = 1, inplace=True)\n",
    "\n",
    "bureau.drop(missing(bureau), axis = 1, inplace=True)\n",
    "credit_card_balance.drop(missing(credit_card_balance), axis = 1, inplace=True)\n",
    "previous_application.drop(missing(previous_application), axis = 1, inplace=True)\n",
    "installments_payments.drop(missing(installments_payments), axis = 1, inplace=True)\n",
    "POS_CASH_balance.drop(missing(POS_CASH_balance), axis = 1, inplace=True)\n",
    "bureau_balance.drop(missing(bureau_balance), axis = 1, inplace=True)"
   ]
  },
  {
   "cell_type": "code",
   "execution_count": 41,
   "metadata": {},
   "outputs": [],
   "source": [
    "# Installments_payments \n",
    "\n",
    "installments_payments = pd.get_dummies(installments_payments, columns=objectcol(installments_payments))\n",
    "\n",
    "countinstallments = installments_payments[['SK_ID_CURR', 'SK_ID_PREV']].groupby('SK_ID_CURR').count()\n",
    "installments_payments['SK_ID_PREV'] = installments_payments['SK_ID_CURR'].map(countinstallments['SK_ID_PREV'])\n",
    "installments_payments = installments_payments.groupby('SK_ID_CURR').mean()\n",
    "\n",
    "\n",
    "#POS_CASH_balance\n",
    "\n",
    "POS_CASH_balance = pd.get_dummies(POS_CASH_balance, columns=objectcol(POS_CASH_balance))\n",
    "countPOS = POS_CASH_balance[['SK_ID_CURR', 'SK_ID_PREV']].groupby('SK_ID_CURR').count()\n",
    "POS_CASH_balance['SK_ID_PREV'] = POS_CASH_balance['SK_ID_CURR'].map(countPOS['SK_ID_PREV'])\n",
    "POS_CASH_balance = POS_CASH_balance.groupby('SK_ID_CURR').mean()\n",
    "\n",
    "\n",
    "\n",
    "# Credit_card_balance\n",
    "\n",
    "credit_card_balance = pd.get_dummies(credit_card_balance, columns=objectcol(credit_card_balance))\n",
    "\n",
    "countcredit = credit_card_balance[['SK_ID_CURR', 'SK_ID_PREV']].groupby('SK_ID_CURR').count()\n",
    "credit_card_balance['SK_ID_PREV'] = credit_card_balance['SK_ID_CURR'].map(countcredit['SK_ID_PREV'])\n",
    "\n",
    "credit_card_balance = credit_card_balance.groupby('SK_ID_CURR').mean()\n",
    "\n",
    "\n",
    "\n",
    "# Previous_application\n",
    "\n",
    "previous_application = pd.get_dummies(previous_application, columns=objectcol(previous_application))\n",
    "countprevious = previous_application[['SK_ID_CURR', 'SK_ID_PREV']].groupby('SK_ID_CURR').count()\n",
    "previous_application['SK_ID_PREV'] = previous_application['SK_ID_CURR'].map(countprevious['SK_ID_PREV'])\n",
    "previous_application = previous_application.groupby('SK_ID_CURR').mean()\n",
    "\n",
    "\n",
    "\n",
    "# Bureau and bureau_balance\n",
    "\n",
    "bureau = pd.get_dummies(bureau, columns=objectcol(bureau))\n",
    "\n",
    "bureau_balance = pd.get_dummies(bureau_balance, columns=objectcol(bureau_balance))\n",
    "bureau_balance = bureau_balance.groupby('SK_ID_BUREAU').mean()\n",
    "\n",
    "# We can now merge the bureau dataset and the bureau_balance one\n",
    "mergedbureau = bureau.merge(right=bureau_balance.reset_index(), how='left', on='SK_ID_BUREAU')\n",
    "\n",
    "countbureau = mergedbureau[['SK_ID_CURR', 'SK_ID_BUREAU']].groupby('SK_ID_CURR').count()\n",
    "\n",
    "mergedbureau['SK_ID_BUREAU'] = mergedbureau['SK_ID_CURR'].map(countbureau['SK_ID_BUREAU'])\n",
    "\n",
    "mergedbureau = mergedbureau.groupby('SK_ID_CURR').mean()"
   ]
  },
  {
   "cell_type": "markdown",
   "metadata": {},
   "source": [
    "#### Now that we grouped each file (except the training and test sets) according to SK_ID_CURR, we can join them all before creating the model and fitting it to our training set."
   ]
  },
  {
   "cell_type": "code",
   "execution_count": 42,
   "metadata": {},
   "outputs": [],
   "source": [
    "train = train.merge(mergedbureau, on = 'SK_ID_CURR', how = 'left')                \n",
    "train = train.merge(credit_card_balance, on = 'SK_ID_CURR', how = 'left')    \n",
    "train = train.merge(previous_application, on = 'SK_ID_CURR', how = 'left')   \n",
    "train = train.merge(installments_payments, on = 'SK_ID_CURR', how = 'left') \n",
    "train = train.merge(POS_CASH_balance, on = 'SK_ID_CURR', how = 'left') "
   ]
  },
  {
   "cell_type": "code",
   "execution_count": 43,
   "metadata": {},
   "outputs": [],
   "source": [
    "test = test.merge(mergedbureau, on = 'SK_ID_CURR', how = 'left')                \n",
    "test = test.merge(credit_card_balance, on = 'SK_ID_CURR', how = 'left')    \n",
    "test = test.merge(previous_application, on = 'SK_ID_CURR', how = 'left')   \n",
    "test = test.merge(installments_payments, on = 'SK_ID_CURR', how = 'left')\n",
    "test = test.merge(POS_CASH_balance, on = 'SK_ID_CURR', how = 'left') "
   ]
  },
  {
   "cell_type": "code",
   "execution_count": 44,
   "metadata": {},
   "outputs": [
    {
     "name": "stdout",
     "output_type": "stream",
     "text": [
      "The number of missing values for the training and the test sets are : 22207220,2826727\n"
     ]
    }
   ],
   "source": [
    "print(\"The number of missing values for the training and the test sets are : \" + str(sum(list(train.isna().sum())))+ \",\" + str(sum(list(test.isna().sum()))))"
   ]
  },
  {
   "cell_type": "code",
   "execution_count": 45,
   "metadata": {},
   "outputs": [
    {
     "name": "stdout",
     "output_type": "stream",
     "text": [
      "NAME_CONTRACT_TYPE\n",
      "FLAG_OWN_CAR\n",
      "FLAG_OWN_REALTY\n"
     ]
    }
   ],
   "source": [
    "le = LabelEncoder()\n",
    "\n",
    "for col in train.columns:\n",
    "    try:\n",
    "        if train[col].dtype == object and len(train[col].unique()) <= 2:\n",
    "            print(col)\n",
    "            le.fit(train[col])\n",
    "            train[col] = le.transform(train[col])\n",
    "            test[col] = le.transform(test[col])\n",
    "    except:\n",
    "        pass"
   ]
  },
  {
   "cell_type": "code",
   "execution_count": 46,
   "metadata": {},
   "outputs": [],
   "source": [
    "traincopy = train.copy()"
   ]
  },
  {
   "cell_type": "code",
   "execution_count": 47,
   "metadata": {},
   "outputs": [],
   "source": [
    "train = pd.get_dummies(train)"
   ]
  },
  {
   "cell_type": "code",
   "execution_count": 48,
   "metadata": {},
   "outputs": [],
   "source": [
    "test = pd.get_dummies(test)"
   ]
  },
  {
   "cell_type": "markdown",
   "metadata": {},
   "source": [
    "We now want to fill the missing values."
   ]
  },
  {
   "cell_type": "code",
   "execution_count": 49,
   "metadata": {},
   "outputs": [
    {
     "data": {
      "text/plain": [
       "SK_ID_CURR                                       0\n",
       "TARGET                                           0\n",
       "NAME_CONTRACT_TYPE                               0\n",
       "FLAG_OWN_CAR                                     0\n",
       "FLAG_OWN_REALTY                                  0\n",
       "CNT_CHILDREN                                     0\n",
       "AMT_INCOME_TOTAL                                 0\n",
       "AMT_CREDIT_x                                     0\n",
       "AMT_ANNUITY_x                                   12\n",
       "AMT_GOODS_PRICE_x                              278\n",
       "REGION_POPULATION_RELATIVE                       0\n",
       "DAYS_BIRTH                                       0\n",
       "DAYS_EMPLOYED                                    0\n",
       "DAYS_REGISTRATION                                0\n",
       "DAYS_ID_PUBLISH                                  0\n",
       "OWN_CAR_AGE                                 202929\n",
       "FLAG_MOBIL                                       0\n",
       "FLAG_EMP_PHONE                                   0\n",
       "FLAG_WORK_PHONE                                  0\n",
       "FLAG_CONT_MOBILE                                 0\n",
       "FLAG_PHONE                                       0\n",
       "FLAG_EMAIL                                       0\n",
       "CNT_FAM_MEMBERS                                  2\n",
       "REGION_RATING_CLIENT                             0\n",
       "REGION_RATING_CLIENT_W_CITY                      0\n",
       "HOUR_APPR_PROCESS_START_x                        0\n",
       "REG_REGION_NOT_LIVE_REGION                       0\n",
       "REG_REGION_NOT_WORK_REGION                       0\n",
       "LIVE_REGION_NOT_WORK_REGION                      0\n",
       "REG_CITY_NOT_LIVE_CITY                           0\n",
       "                                             ...  \n",
       "ORGANIZATION_TYPE_Telecom                        0\n",
       "ORGANIZATION_TYPE_Trade: type 1                  0\n",
       "ORGANIZATION_TYPE_Trade: type 2                  0\n",
       "ORGANIZATION_TYPE_Trade: type 3                  0\n",
       "ORGANIZATION_TYPE_Trade: type 4                  0\n",
       "ORGANIZATION_TYPE_Trade: type 5                  0\n",
       "ORGANIZATION_TYPE_Trade: type 6                  0\n",
       "ORGANIZATION_TYPE_Trade: type 7                  0\n",
       "ORGANIZATION_TYPE_Transport: type 1              0\n",
       "ORGANIZATION_TYPE_Transport: type 2              0\n",
       "ORGANIZATION_TYPE_Transport: type 3              0\n",
       "ORGANIZATION_TYPE_Transport: type 4              0\n",
       "ORGANIZATION_TYPE_University                     0\n",
       "ORGANIZATION_TYPE_XNA                            0\n",
       "FONDKAPREMONT_MODE_not specified                 0\n",
       "FONDKAPREMONT_MODE_org spec account              0\n",
       "FONDKAPREMONT_MODE_reg oper account              0\n",
       "FONDKAPREMONT_MODE_reg oper spec account         0\n",
       "HOUSETYPE_MODE_block of flats                    0\n",
       "HOUSETYPE_MODE_specific housing                  0\n",
       "HOUSETYPE_MODE_terraced house                    0\n",
       "WALLSMATERIAL_MODE_Block                         0\n",
       "WALLSMATERIAL_MODE_Mixed                         0\n",
       "WALLSMATERIAL_MODE_Monolithic                    0\n",
       "WALLSMATERIAL_MODE_Others                        0\n",
       "WALLSMATERIAL_MODE_Panel                         0\n",
       "WALLSMATERIAL_MODE_Stone, brick                  0\n",
       "WALLSMATERIAL_MODE_Wooden                        0\n",
       "EMERGENCYSTATE_MODE_No                           0\n",
       "EMERGENCYSTATE_MODE_Yes                          0\n",
       "Length: 498, dtype: int64"
      ]
     },
     "execution_count": 49,
     "metadata": {},
     "output_type": "execute_result"
    }
   ],
   "source": [
    "train.isna().sum()"
   ]
  },
  {
   "cell_type": "markdown",
   "metadata": {},
   "source": [
    "We also needed to get the same number of columns in the training and in the test datasets. That's we deleted the columns that were not common to both datasets (in particular, the TARGET one) :"
   ]
  },
  {
   "cell_type": "markdown",
   "metadata": {},
   "source": [
    "We also got rid of the potential column that we could gave in train and not in test."
   ]
  },
  {
   "cell_type": "code",
   "execution_count": 50,
   "metadata": {},
   "outputs": [],
   "source": [
    "target = train['TARGET']\n",
    "for col in set(train.columns).difference(set(test.columns)):\n",
    "    train.drop(col, axis=1, inplace=True)"
   ]
  },
  {
   "cell_type": "markdown",
   "metadata": {},
   "source": [
    "We can now fill the columns that don't a disproportionate number of missing values with the median of their values."
   ]
  },
  {
   "cell_type": "code",
   "execution_count": 51,
   "metadata": {},
   "outputs": [],
   "source": [
    "imputer = Imputer(strategy = \"median\")\n",
    "imputer.fit(train)\n",
    "train.loc[:] = imputer.transform(train)\n",
    "imputer = Imputer(strategy = \"median\")\n",
    "imputer.fit(test)\n",
    "test.loc[:] = imputer.transform(test)"
   ]
  },
  {
   "cell_type": "markdown",
   "metadata": {},
   "source": [
    "We can now scale and normalize the train and test datasets thanks to StandardScaler."
   ]
  },
  {
   "cell_type": "code",
   "execution_count": 52,
   "metadata": {},
   "outputs": [],
   "source": [
    "scaler = StandardScaler()\n",
    "scaler.fit(train)\n",
    "train.loc[:] = scaler.transform(train)\n",
    "\n",
    "scaler = StandardScaler()\n",
    "scaler.fit(test)\n",
    "test.loc[:] = scaler.transform(test)"
   ]
  },
  {
   "cell_type": "code",
   "execution_count": 18,
   "metadata": {},
   "outputs": [
    {
     "data": {
      "text/html": [
       "<div>\n",
       "<style scoped>\n",
       "    .dataframe tbody tr th:only-of-type {\n",
       "        vertical-align: middle;\n",
       "    }\n",
       "\n",
       "    .dataframe tbody tr th {\n",
       "        vertical-align: top;\n",
       "    }\n",
       "\n",
       "    .dataframe thead th {\n",
       "        text-align: right;\n",
       "    }\n",
       "</style>\n",
       "<table border=\"1\" class=\"dataframe\">\n",
       "  <thead>\n",
       "    <tr style=\"text-align: right;\">\n",
       "      <th></th>\n",
       "      <th>SK_ID_CURR</th>\n",
       "      <th>NAME_CONTRACT_TYPE</th>\n",
       "      <th>FLAG_OWN_CAR</th>\n",
       "      <th>FLAG_OWN_REALTY</th>\n",
       "      <th>CNT_CHILDREN</th>\n",
       "      <th>AMT_INCOME_TOTAL</th>\n",
       "      <th>AMT_CREDIT_x</th>\n",
       "      <th>AMT_ANNUITY_x</th>\n",
       "      <th>AMT_GOODS_PRICE_x</th>\n",
       "      <th>REGION_POPULATION_RELATIVE</th>\n",
       "      <th>...</th>\n",
       "      <th>HOUSETYPE_MODE_terraced house</th>\n",
       "      <th>WALLSMATERIAL_MODE_Block</th>\n",
       "      <th>WALLSMATERIAL_MODE_Mixed</th>\n",
       "      <th>WALLSMATERIAL_MODE_Monolithic</th>\n",
       "      <th>WALLSMATERIAL_MODE_Others</th>\n",
       "      <th>WALLSMATERIAL_MODE_Panel</th>\n",
       "      <th>WALLSMATERIAL_MODE_Stone, brick</th>\n",
       "      <th>WALLSMATERIAL_MODE_Wooden</th>\n",
       "      <th>EMERGENCYSTATE_MODE_No</th>\n",
       "      <th>EMERGENCYSTATE_MODE_Yes</th>\n",
       "    </tr>\n",
       "  </thead>\n",
       "  <tbody>\n",
       "    <tr>\n",
       "      <th>0</th>\n",
       "      <td>-1.733423</td>\n",
       "      <td>-0.324395</td>\n",
       "      <td>-0.717914</td>\n",
       "      <td>0.664531</td>\n",
       "      <td>-0.577538</td>\n",
       "      <td>0.142129</td>\n",
       "      <td>-0.478095</td>\n",
       "      <td>-0.166143</td>\n",
       "      <td>-0.507236</td>\n",
       "      <td>-0.149452</td>\n",
       "      <td>...</td>\n",
       "      <td>-0.062904</td>\n",
       "      <td>-0.176135</td>\n",
       "      <td>-0.086733</td>\n",
       "      <td>-0.076281</td>\n",
       "      <td>-0.072886</td>\n",
       "      <td>-0.522963</td>\n",
       "      <td>1.935056</td>\n",
       "      <td>-0.133215</td>\n",
       "      <td>0.963763</td>\n",
       "      <td>-0.08734</td>\n",
       "    </tr>\n",
       "    <tr>\n",
       "      <th>1</th>\n",
       "      <td>-1.733413</td>\n",
       "      <td>-0.324395</td>\n",
       "      <td>-0.717914</td>\n",
       "      <td>-1.504820</td>\n",
       "      <td>-0.577538</td>\n",
       "      <td>0.426792</td>\n",
       "      <td>1.725450</td>\n",
       "      <td>0.592683</td>\n",
       "      <td>1.600873</td>\n",
       "      <td>-1.252750</td>\n",
       "      <td>...</td>\n",
       "      <td>-0.062904</td>\n",
       "      <td>5.677469</td>\n",
       "      <td>-0.086733</td>\n",
       "      <td>-0.076281</td>\n",
       "      <td>-0.072886</td>\n",
       "      <td>-0.522963</td>\n",
       "      <td>-0.516781</td>\n",
       "      <td>-0.133215</td>\n",
       "      <td>0.963763</td>\n",
       "      <td>-0.08734</td>\n",
       "    </tr>\n",
       "    <tr>\n",
       "      <th>2</th>\n",
       "      <td>-1.733403</td>\n",
       "      <td>3.082659</td>\n",
       "      <td>1.392925</td>\n",
       "      <td>0.664531</td>\n",
       "      <td>-0.577538</td>\n",
       "      <td>-0.427196</td>\n",
       "      <td>-1.152888</td>\n",
       "      <td>-1.404669</td>\n",
       "      <td>-1.092145</td>\n",
       "      <td>-0.783451</td>\n",
       "      <td>...</td>\n",
       "      <td>-0.062904</td>\n",
       "      <td>-0.176135</td>\n",
       "      <td>-0.086733</td>\n",
       "      <td>-0.076281</td>\n",
       "      <td>-0.072886</td>\n",
       "      <td>-0.522963</td>\n",
       "      <td>-0.516781</td>\n",
       "      <td>-0.133215</td>\n",
       "      <td>-1.037599</td>\n",
       "      <td>-0.08734</td>\n",
       "    </tr>\n",
       "    <tr>\n",
       "      <th>3</th>\n",
       "      <td>-1.733384</td>\n",
       "      <td>-0.324395</td>\n",
       "      <td>-0.717914</td>\n",
       "      <td>0.664531</td>\n",
       "      <td>-0.577538</td>\n",
       "      <td>-0.142533</td>\n",
       "      <td>-0.711430</td>\n",
       "      <td>0.177874</td>\n",
       "      <td>-0.653463</td>\n",
       "      <td>-0.928991</td>\n",
       "      <td>...</td>\n",
       "      <td>-0.062904</td>\n",
       "      <td>-0.176135</td>\n",
       "      <td>-0.086733</td>\n",
       "      <td>-0.076281</td>\n",
       "      <td>-0.072886</td>\n",
       "      <td>-0.522963</td>\n",
       "      <td>-0.516781</td>\n",
       "      <td>-0.133215</td>\n",
       "      <td>-1.037599</td>\n",
       "      <td>-0.08734</td>\n",
       "    </tr>\n",
       "    <tr>\n",
       "      <th>4</th>\n",
       "      <td>-1.733374</td>\n",
       "      <td>-0.324395</td>\n",
       "      <td>-0.717914</td>\n",
       "      <td>0.664531</td>\n",
       "      <td>-0.577538</td>\n",
       "      <td>-0.199466</td>\n",
       "      <td>-0.213734</td>\n",
       "      <td>-0.361749</td>\n",
       "      <td>-0.068554</td>\n",
       "      <td>0.563570</td>\n",
       "      <td>...</td>\n",
       "      <td>-0.062904</td>\n",
       "      <td>-0.176135</td>\n",
       "      <td>-0.086733</td>\n",
       "      <td>-0.076281</td>\n",
       "      <td>-0.072886</td>\n",
       "      <td>-0.522963</td>\n",
       "      <td>-0.516781</td>\n",
       "      <td>-0.133215</td>\n",
       "      <td>-1.037599</td>\n",
       "      <td>-0.08734</td>\n",
       "    </tr>\n",
       "  </tbody>\n",
       "</table>\n",
       "<p>5 rows × 494 columns</p>\n",
       "</div>"
      ],
      "text/plain": [
       "   SK_ID_CURR  NAME_CONTRACT_TYPE  FLAG_OWN_CAR  FLAG_OWN_REALTY  \\\n",
       "0   -1.733423           -0.324395     -0.717914         0.664531   \n",
       "1   -1.733413           -0.324395     -0.717914        -1.504820   \n",
       "2   -1.733403            3.082659      1.392925         0.664531   \n",
       "3   -1.733384           -0.324395     -0.717914         0.664531   \n",
       "4   -1.733374           -0.324395     -0.717914         0.664531   \n",
       "\n",
       "   CNT_CHILDREN  AMT_INCOME_TOTAL  AMT_CREDIT_x  AMT_ANNUITY_x  \\\n",
       "0     -0.577538          0.142129     -0.478095      -0.166143   \n",
       "1     -0.577538          0.426792      1.725450       0.592683   \n",
       "2     -0.577538         -0.427196     -1.152888      -1.404669   \n",
       "3     -0.577538         -0.142533     -0.711430       0.177874   \n",
       "4     -0.577538         -0.199466     -0.213734      -0.361749   \n",
       "\n",
       "   AMT_GOODS_PRICE_x  REGION_POPULATION_RELATIVE           ...             \\\n",
       "0          -0.507236                   -0.149452           ...              \n",
       "1           1.600873                   -1.252750           ...              \n",
       "2          -1.092145                   -0.783451           ...              \n",
       "3          -0.653463                   -0.928991           ...              \n",
       "4          -0.068554                    0.563570           ...              \n",
       "\n",
       "   HOUSETYPE_MODE_terraced house  WALLSMATERIAL_MODE_Block  \\\n",
       "0                      -0.062904                 -0.176135   \n",
       "1                      -0.062904                  5.677469   \n",
       "2                      -0.062904                 -0.176135   \n",
       "3                      -0.062904                 -0.176135   \n",
       "4                      -0.062904                 -0.176135   \n",
       "\n",
       "   WALLSMATERIAL_MODE_Mixed  WALLSMATERIAL_MODE_Monolithic  \\\n",
       "0                 -0.086733                      -0.076281   \n",
       "1                 -0.086733                      -0.076281   \n",
       "2                 -0.086733                      -0.076281   \n",
       "3                 -0.086733                      -0.076281   \n",
       "4                 -0.086733                      -0.076281   \n",
       "\n",
       "   WALLSMATERIAL_MODE_Others  WALLSMATERIAL_MODE_Panel  \\\n",
       "0                  -0.072886                 -0.522963   \n",
       "1                  -0.072886                 -0.522963   \n",
       "2                  -0.072886                 -0.522963   \n",
       "3                  -0.072886                 -0.522963   \n",
       "4                  -0.072886                 -0.522963   \n",
       "\n",
       "   WALLSMATERIAL_MODE_Stone, brick  WALLSMATERIAL_MODE_Wooden  \\\n",
       "0                         1.935056                  -0.133215   \n",
       "1                        -0.516781                  -0.133215   \n",
       "2                        -0.516781                  -0.133215   \n",
       "3                        -0.516781                  -0.133215   \n",
       "4                        -0.516781                  -0.133215   \n",
       "\n",
       "   EMERGENCYSTATE_MODE_No  EMERGENCYSTATE_MODE_Yes  \n",
       "0                0.963763                 -0.08734  \n",
       "1                0.963763                 -0.08734  \n",
       "2               -1.037599                 -0.08734  \n",
       "3               -1.037599                 -0.08734  \n",
       "4               -1.037599                 -0.08734  \n",
       "\n",
       "[5 rows x 494 columns]"
      ]
     },
     "execution_count": 18,
     "metadata": {},
     "output_type": "execute_result"
    }
   ],
   "source": [
    "train.head()"
   ]
  },
  {
   "cell_type": "code",
   "execution_count": 53,
   "metadata": {},
   "outputs": [
    {
     "name": "stdout",
     "output_type": "stream",
     "text": [
      "The number of missing values for the training and the test sets are : 0,0\n"
     ]
    }
   ],
   "source": [
    "print(\"The number of missing values for the training and the test sets are : \" + str(sum(list(train.isna().sum())))+ \",\" + str(sum(list(test.isna().sum()))))"
   ]
  },
  {
   "cell_type": "code",
   "execution_count": 54,
   "metadata": {},
   "outputs": [
    {
     "name": "stdout",
     "output_type": "stream",
     "text": [
      "(48744, 494) (307511, 494)\n"
     ]
    }
   ],
   "source": [
    "print(test.shape,train.shape)"
   ]
  },
  {
   "cell_type": "code",
   "execution_count": 79,
   "metadata": {},
   "outputs": [
    {
     "data": {
      "text/html": [
       "<div>\n",
       "<style scoped>\n",
       "    .dataframe tbody tr th:only-of-type {\n",
       "        vertical-align: middle;\n",
       "    }\n",
       "\n",
       "    .dataframe tbody tr th {\n",
       "        vertical-align: top;\n",
       "    }\n",
       "\n",
       "    .dataframe thead th {\n",
       "        text-align: right;\n",
       "    }\n",
       "</style>\n",
       "<table border=\"1\" class=\"dataframe\">\n",
       "  <thead>\n",
       "    <tr style=\"text-align: right;\">\n",
       "      <th></th>\n",
       "      <th>SK_ID_CURR</th>\n",
       "      <th>NAME_CONTRACT_TYPE</th>\n",
       "      <th>FLAG_OWN_CAR</th>\n",
       "      <th>FLAG_OWN_REALTY</th>\n",
       "      <th>CNT_CHILDREN</th>\n",
       "      <th>AMT_INCOME_TOTAL</th>\n",
       "      <th>AMT_CREDIT_x</th>\n",
       "      <th>AMT_ANNUITY_x</th>\n",
       "      <th>AMT_GOODS_PRICE_x</th>\n",
       "      <th>REGION_POPULATION_RELATIVE</th>\n",
       "      <th>...</th>\n",
       "      <th>HOUSETYPE_MODE_terraced house</th>\n",
       "      <th>WALLSMATERIAL_MODE_Block</th>\n",
       "      <th>WALLSMATERIAL_MODE_Mixed</th>\n",
       "      <th>WALLSMATERIAL_MODE_Monolithic</th>\n",
       "      <th>WALLSMATERIAL_MODE_Others</th>\n",
       "      <th>WALLSMATERIAL_MODE_Panel</th>\n",
       "      <th>WALLSMATERIAL_MODE_Stone, brick</th>\n",
       "      <th>WALLSMATERIAL_MODE_Wooden</th>\n",
       "      <th>EMERGENCYSTATE_MODE_No</th>\n",
       "      <th>EMERGENCYSTATE_MODE_Yes</th>\n",
       "    </tr>\n",
       "  </thead>\n",
       "  <tbody>\n",
       "    <tr>\n",
       "      <th>0</th>\n",
       "      <td>-1.733423</td>\n",
       "      <td>-0.324395</td>\n",
       "      <td>-0.717914</td>\n",
       "      <td>0.664531</td>\n",
       "      <td>-0.577538</td>\n",
       "      <td>0.142129</td>\n",
       "      <td>-0.478095</td>\n",
       "      <td>-0.166143</td>\n",
       "      <td>-0.507236</td>\n",
       "      <td>-0.149452</td>\n",
       "      <td>...</td>\n",
       "      <td>-0.062904</td>\n",
       "      <td>-0.176135</td>\n",
       "      <td>-0.086733</td>\n",
       "      <td>-0.076281</td>\n",
       "      <td>-0.072886</td>\n",
       "      <td>-0.522963</td>\n",
       "      <td>1.935056</td>\n",
       "      <td>-0.133215</td>\n",
       "      <td>0.963763</td>\n",
       "      <td>-0.08734</td>\n",
       "    </tr>\n",
       "    <tr>\n",
       "      <th>1</th>\n",
       "      <td>-1.733413</td>\n",
       "      <td>-0.324395</td>\n",
       "      <td>-0.717914</td>\n",
       "      <td>-1.504820</td>\n",
       "      <td>-0.577538</td>\n",
       "      <td>0.426792</td>\n",
       "      <td>1.725450</td>\n",
       "      <td>0.592683</td>\n",
       "      <td>1.600873</td>\n",
       "      <td>-1.252750</td>\n",
       "      <td>...</td>\n",
       "      <td>-0.062904</td>\n",
       "      <td>5.677469</td>\n",
       "      <td>-0.086733</td>\n",
       "      <td>-0.076281</td>\n",
       "      <td>-0.072886</td>\n",
       "      <td>-0.522963</td>\n",
       "      <td>-0.516781</td>\n",
       "      <td>-0.133215</td>\n",
       "      <td>0.963763</td>\n",
       "      <td>-0.08734</td>\n",
       "    </tr>\n",
       "    <tr>\n",
       "      <th>2</th>\n",
       "      <td>-1.733403</td>\n",
       "      <td>3.082659</td>\n",
       "      <td>1.392925</td>\n",
       "      <td>0.664531</td>\n",
       "      <td>-0.577538</td>\n",
       "      <td>-0.427196</td>\n",
       "      <td>-1.152888</td>\n",
       "      <td>-1.404669</td>\n",
       "      <td>-1.092145</td>\n",
       "      <td>-0.783451</td>\n",
       "      <td>...</td>\n",
       "      <td>-0.062904</td>\n",
       "      <td>-0.176135</td>\n",
       "      <td>-0.086733</td>\n",
       "      <td>-0.076281</td>\n",
       "      <td>-0.072886</td>\n",
       "      <td>-0.522963</td>\n",
       "      <td>-0.516781</td>\n",
       "      <td>-0.133215</td>\n",
       "      <td>-1.037599</td>\n",
       "      <td>-0.08734</td>\n",
       "    </tr>\n",
       "    <tr>\n",
       "      <th>3</th>\n",
       "      <td>-1.733384</td>\n",
       "      <td>-0.324395</td>\n",
       "      <td>-0.717914</td>\n",
       "      <td>0.664531</td>\n",
       "      <td>-0.577538</td>\n",
       "      <td>-0.142533</td>\n",
       "      <td>-0.711430</td>\n",
       "      <td>0.177874</td>\n",
       "      <td>-0.653463</td>\n",
       "      <td>-0.928991</td>\n",
       "      <td>...</td>\n",
       "      <td>-0.062904</td>\n",
       "      <td>-0.176135</td>\n",
       "      <td>-0.086733</td>\n",
       "      <td>-0.076281</td>\n",
       "      <td>-0.072886</td>\n",
       "      <td>-0.522963</td>\n",
       "      <td>-0.516781</td>\n",
       "      <td>-0.133215</td>\n",
       "      <td>-1.037599</td>\n",
       "      <td>-0.08734</td>\n",
       "    </tr>\n",
       "    <tr>\n",
       "      <th>4</th>\n",
       "      <td>-1.733374</td>\n",
       "      <td>-0.324395</td>\n",
       "      <td>-0.717914</td>\n",
       "      <td>0.664531</td>\n",
       "      <td>-0.577538</td>\n",
       "      <td>-0.199466</td>\n",
       "      <td>-0.213734</td>\n",
       "      <td>-0.361749</td>\n",
       "      <td>-0.068554</td>\n",
       "      <td>0.563570</td>\n",
       "      <td>...</td>\n",
       "      <td>-0.062904</td>\n",
       "      <td>-0.176135</td>\n",
       "      <td>-0.086733</td>\n",
       "      <td>-0.076281</td>\n",
       "      <td>-0.072886</td>\n",
       "      <td>-0.522963</td>\n",
       "      <td>-0.516781</td>\n",
       "      <td>-0.133215</td>\n",
       "      <td>-1.037599</td>\n",
       "      <td>-0.08734</td>\n",
       "    </tr>\n",
       "  </tbody>\n",
       "</table>\n",
       "<p>5 rows × 456 columns</p>\n",
       "</div>"
      ],
      "text/plain": [
       "   SK_ID_CURR  NAME_CONTRACT_TYPE  FLAG_OWN_CAR  FLAG_OWN_REALTY  \\\n",
       "0   -1.733423           -0.324395     -0.717914         0.664531   \n",
       "1   -1.733413           -0.324395     -0.717914        -1.504820   \n",
       "2   -1.733403            3.082659      1.392925         0.664531   \n",
       "3   -1.733384           -0.324395     -0.717914         0.664531   \n",
       "4   -1.733374           -0.324395     -0.717914         0.664531   \n",
       "\n",
       "   CNT_CHILDREN  AMT_INCOME_TOTAL  AMT_CREDIT_x  AMT_ANNUITY_x  \\\n",
       "0     -0.577538          0.142129     -0.478095      -0.166143   \n",
       "1     -0.577538          0.426792      1.725450       0.592683   \n",
       "2     -0.577538         -0.427196     -1.152888      -1.404669   \n",
       "3     -0.577538         -0.142533     -0.711430       0.177874   \n",
       "4     -0.577538         -0.199466     -0.213734      -0.361749   \n",
       "\n",
       "   AMT_GOODS_PRICE_x  REGION_POPULATION_RELATIVE           ...             \\\n",
       "0          -0.507236                   -0.149452           ...              \n",
       "1           1.600873                   -1.252750           ...              \n",
       "2          -1.092145                   -0.783451           ...              \n",
       "3          -0.653463                   -0.928991           ...              \n",
       "4          -0.068554                    0.563570           ...              \n",
       "\n",
       "   HOUSETYPE_MODE_terraced house  WALLSMATERIAL_MODE_Block  \\\n",
       "0                      -0.062904                 -0.176135   \n",
       "1                      -0.062904                  5.677469   \n",
       "2                      -0.062904                 -0.176135   \n",
       "3                      -0.062904                 -0.176135   \n",
       "4                      -0.062904                 -0.176135   \n",
       "\n",
       "   WALLSMATERIAL_MODE_Mixed  WALLSMATERIAL_MODE_Monolithic  \\\n",
       "0                 -0.086733                      -0.076281   \n",
       "1                 -0.086733                      -0.076281   \n",
       "2                 -0.086733                      -0.076281   \n",
       "3                 -0.086733                      -0.076281   \n",
       "4                 -0.086733                      -0.076281   \n",
       "\n",
       "   WALLSMATERIAL_MODE_Others  WALLSMATERIAL_MODE_Panel  \\\n",
       "0                  -0.072886                 -0.522963   \n",
       "1                  -0.072886                 -0.522963   \n",
       "2                  -0.072886                 -0.522963   \n",
       "3                  -0.072886                 -0.522963   \n",
       "4                  -0.072886                 -0.522963   \n",
       "\n",
       "   WALLSMATERIAL_MODE_Stone, brick  WALLSMATERIAL_MODE_Wooden  \\\n",
       "0                         1.935056                  -0.133215   \n",
       "1                        -0.516781                  -0.133215   \n",
       "2                        -0.516781                  -0.133215   \n",
       "3                        -0.516781                  -0.133215   \n",
       "4                        -0.516781                  -0.133215   \n",
       "\n",
       "   EMERGENCYSTATE_MODE_No  EMERGENCYSTATE_MODE_Yes  \n",
       "0                0.963763                 -0.08734  \n",
       "1                0.963763                 -0.08734  \n",
       "2               -1.037599                 -0.08734  \n",
       "3               -1.037599                 -0.08734  \n",
       "4               -1.037599                 -0.08734  \n",
       "\n",
       "[5 rows x 456 columns]"
      ]
     },
     "execution_count": 79,
     "metadata": {},
     "output_type": "execute_result"
    }
   ],
   "source": [
    "train.head()"
   ]
  },
  {
   "cell_type": "markdown",
   "metadata": {},
   "source": [
    "We get rid of the SK_ID_CURR in the training and test sets"
   ]
  },
  {
   "cell_type": "code",
   "execution_count": 55,
   "metadata": {},
   "outputs": [],
   "source": [
    "if 'SK_ID_CURR' in train.columns:\n",
    "    train.drop('SK_ID_CURR', axis=1, inplace=True)\n",
    "if 'SK_ID_CURR' in test.columns:\n",
    "    test.drop('SK_ID_CURR', axis=1, inplace=True)"
   ]
  },
  {
   "cell_type": "markdown",
   "metadata": {},
   "source": [
    "**Now that we don't have any missing value anymore, we can get into the logistic regression.**"
   ]
  },
  {
   "cell_type": "code",
   "execution_count": 22,
   "metadata": {},
   "outputs": [
    {
     "data": {
      "text/plain": [
       "LogisticRegression(C=1, class_weight=None, dual=False, fit_intercept=True,\n",
       "          intercept_scaling=1, max_iter=100, multi_class='warn',\n",
       "          n_jobs=None, penalty='l2', random_state=None, solver='warn',\n",
       "          tol=0.0001, verbose=0, warm_start=False)"
      ]
     },
     "execution_count": 22,
     "metadata": {},
     "output_type": "execute_result"
    }
   ],
   "source": [
    "lr = LogisticRegression(C=1)\n",
    "lr.fit(train, target)"
   ]
  },
  {
   "cell_type": "markdown",
   "metadata": {},
   "source": [
    "The logistic model is now trained. We can exploit the probability prediction tool of sklearn to build the prediction file we need."
   ]
  },
  {
   "cell_type": "code",
   "execution_count": 23,
   "metadata": {},
   "outputs": [
    {
     "name": "stdout",
     "output_type": "stream",
     "text": [
      "The AUC score is 0.7721209206755005\n"
     ]
    }
   ],
   "source": [
    "Pt = lr.predict_proba(train)[:,1]\n",
    "\n",
    "print(\"The AUC score is\",roc_auc_score(target, Pt))"
   ]
  },
  {
   "cell_type": "code",
   "execution_count": 24,
   "metadata": {},
   "outputs": [],
   "source": [
    "P = lr.predict_proba(test)[:,1]\n",
    "\n",
    "pred = pd.DataFrame()\n",
    "pred['SK_ID_CURR'] = pd.read_csv(\"application_test.csv\")['SK_ID_CURR']\n",
    "pred['TARGET'] = P\n",
    "pred.to_csv('predictionlr.csv', index = False)"
   ]
  },
  {
   "cell_type": "markdown",
   "metadata": {},
   "source": [
    "We get a high AUC so we can say that the model succeeds to distinguish the classes quite well. It means that the model has around 0.776 chances to distinguish the cases where the loan was repaid or not."
   ]
  },
  {
   "cell_type": "markdown",
   "metadata": {},
   "source": [
    "## LIGHTGBM"
   ]
  },
  {
   "cell_type": "markdown",
   "metadata": {},
   "source": [
    "As we want to improve the score of our prediction, we also used the LIGHTGBM method. We train the model until the validation score improves.\n",
    "\n",
    "We first split the train set as the LIGHTGBM method requires to split the train set. Please note that we chose the hyperparameters of this method thanks to what is given on different websites and forums."
   ]
  },
  {
   "cell_type": "code",
   "execution_count": 56,
   "metadata": {},
   "outputs": [],
   "source": [
    "train_x, valid_x, train_y, valid_y = train_test_split(train, target, test_size=0.2, shuffle=True)\n",
    "\n",
    "traingbm=lightgbm.Dataset(train_x,label=train_y)\n",
    "validgbm=lightgbm.Dataset(valid_x,label=valid_y)"
   ]
  },
  {
   "cell_type": "markdown",
   "metadata": {},
   "source": [
    "We can now train the LIGHTGBM model with these two datasets."
   ]
  },
  {
   "cell_type": "code",
   "execution_count": 57,
   "metadata": {},
   "outputs": [
    {
     "name": "stdout",
     "output_type": "stream",
     "text": [
      "Training until validation scores don't improve for 40 rounds.\n",
      "[10]\tvalid_0's auc: 0.739341\n",
      "[20]\tvalid_0's auc: 0.746867\n",
      "[30]\tvalid_0's auc: 0.751659\n",
      "[40]\tvalid_0's auc: 0.756253\n",
      "[50]\tvalid_0's auc: 0.760194\n",
      "[60]\tvalid_0's auc: 0.763261\n",
      "[70]\tvalid_0's auc: 0.766316\n",
      "[80]\tvalid_0's auc: 0.768489\n",
      "[90]\tvalid_0's auc: 0.77055\n",
      "[100]\tvalid_0's auc: 0.771897\n",
      "[110]\tvalid_0's auc: 0.77329\n",
      "[120]\tvalid_0's auc: 0.774217\n",
      "[130]\tvalid_0's auc: 0.775297\n",
      "[140]\tvalid_0's auc: 0.776069\n",
      "[150]\tvalid_0's auc: 0.776726\n",
      "[160]\tvalid_0's auc: 0.777752\n",
      "[170]\tvalid_0's auc: 0.778234\n",
      "[180]\tvalid_0's auc: 0.778645\n",
      "[190]\tvalid_0's auc: 0.779278\n",
      "[200]\tvalid_0's auc: 0.779624\n",
      "[210]\tvalid_0's auc: 0.78001\n",
      "[220]\tvalid_0's auc: 0.780273\n",
      "[230]\tvalid_0's auc: 0.780602\n",
      "[240]\tvalid_0's auc: 0.780923\n",
      "[250]\tvalid_0's auc: 0.781079\n",
      "[260]\tvalid_0's auc: 0.781297\n",
      "[270]\tvalid_0's auc: 0.781605\n",
      "[280]\tvalid_0's auc: 0.781722\n",
      "[290]\tvalid_0's auc: 0.781866\n",
      "[300]\tvalid_0's auc: 0.78197\n",
      "[310]\tvalid_0's auc: 0.782077\n",
      "[320]\tvalid_0's auc: 0.782348\n",
      "[330]\tvalid_0's auc: 0.782337\n",
      "[340]\tvalid_0's auc: 0.782457\n",
      "[350]\tvalid_0's auc: 0.782491\n",
      "[360]\tvalid_0's auc: 0.782478\n",
      "[370]\tvalid_0's auc: 0.782529\n",
      "[380]\tvalid_0's auc: 0.782498\n",
      "[390]\tvalid_0's auc: 0.7824\n",
      "[400]\tvalid_0's auc: 0.782287\n",
      "Early stopping, best iteration is:\n",
      "[367]\tvalid_0's auc: 0.782599\n"
     ]
    }
   ],
   "source": [
    "lgbm = lightgbm.train({'boosting_type': 'gbdt',\n",
    "          'max_depth' : 10,\n",
    "          'reg_alpha': 5,\n",
    "          'reg_lambda': 10,\n",
    "          'min_split_gain': 0.5,\n",
    "          'objective': 'binary',\n",
    "          'nthread': 5,\n",
    "          'num_leaves': 64,\n",
    "          'learning_rate': 0.05,\n",
    "          'max_bin': 512,\n",
    "          'min_child_weight': 1,\n",
    "          'min_child_samples': 5,\n",
    "          'scale_pos_weight': 1,\n",
    "          'num_class' : 1,\n",
    "          'subsample_for_bin': 200,\n",
    "          'subsample': 1,\n",
    "          'subsample_freq': 1,\n",
    "          'colsample_bytree': 0.8,\n",
    "          'metric' : 'auc'},\n",
    "                 traingbm,\n",
    "                 2500,\n",
    "                 valid_sets=validgbm,\n",
    "                 early_stopping_rounds= 40,\n",
    "                 verbose_eval= 10\n",
    "                 )\n",
    "\n",
    "\n",
    " \n",
    "# We can now predict on the test set\n",
    "probslgbm = lgbm.predict(test)"
   ]
  },
  {
   "cell_type": "code",
   "execution_count": 27,
   "metadata": {},
   "outputs": [
    {
     "data": {
      "text/plain": [
       "0.8773793487119629"
      ]
     },
     "execution_count": 27,
     "metadata": {},
     "output_type": "execute_result"
    }
   ],
   "source": [
    "score = roc_auc_score(target, lgbm.predict(train))\n",
    "score"
   ]
  },
  {
   "cell_type": "code",
   "execution_count": 59,
   "metadata": {},
   "outputs": [],
   "source": [
    "preds = pd.DataFrame()\n",
    "preds['SK_ID_CURR'] = pd.read_csv(\"application_test.csv\")['SK_ID_CURR']\n",
    "preds['TARGET'] = probslgbm"
   ]
  },
  {
   "cell_type": "markdown",
   "metadata": {},
   "source": [
    "Now that we built the submission dataset with the SK_ID_CURR column and the probability predicted thanks to the LIGHTGBM method, we can create the submission file (in CSV format)."
   ]
  },
  {
   "cell_type": "code",
   "execution_count": 60,
   "metadata": {},
   "outputs": [],
   "source": [
    "preds.to_csv('submissionlgbm.csv', index = False)"
   ]
  },
  {
   "cell_type": "markdown",
   "metadata": {},
   "source": [
    "# Conclusion"
   ]
  },
  {
   "cell_type": "markdown",
   "metadata": {},
   "source": [
    "As a conclusion, we can say that the more we \"clean\" our data, the better will be the score of the model. Here, we decided, for instance, to get rid of columns that contain too many missing values. Keeping them would have worsened the ability of our model to predict the target properly."
   ]
  }
 ],
 "metadata": {
  "kernelspec": {
   "display_name": "Python 3",
   "language": "python",
   "name": "python3"
  },
  "language_info": {
   "codemirror_mode": {
    "name": "ipython",
    "version": 3
   },
   "file_extension": ".py",
   "mimetype": "text/x-python",
   "name": "python",
   "nbconvert_exporter": "python",
   "pygments_lexer": "ipython3",
   "version": "3.7.1"
  }
 },
 "nbformat": 4,
 "nbformat_minor": 2
}
